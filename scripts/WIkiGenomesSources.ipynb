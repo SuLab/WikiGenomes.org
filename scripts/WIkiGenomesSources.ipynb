{
 "cells": [
  {
   "cell_type": "code",
   "execution_count": 2,
   "metadata": {
    "collapsed": true
   },
   "outputs": [],
   "source": [
    "import urllib.request as urlr\n",
    "import pandas as pd\n",
    "from SPARQLWrapper import SPARQLWrapper, JSON\n",
    "from pprint import pprint"
   ]
  },
  {
   "cell_type": "code",
   "execution_count": 3,
   "metadata": {
    "collapsed": true
   },
   "outputs": [],
   "source": [
    "def get_ref_microbe_taxids():\n",
    "    \"\"\"\n",
    "    Download the latest bacterial genome assembly summary from the NCBI genome ftp site\n",
    "    and generate a pd.DataFrame of relevant data for strain items based on taxids of the bacterial reference genomes.\n",
    "    :return: pandas dataframe of bacteria reference genome data\n",
    "    \"\"\"\n",
    "    assembly = urlr.urlretrieve(\"ftp://ftp.ncbi.nlm.nih.gov/genomes/refseq/bacteria/assembly_summary.txt\")\n",
    "    columns = ['assembly_accession', 'bioproject', 'biosample', 'wgs_master', 'refseq_category', 'taxid',\n",
    "               'species_taxid', 'organism_name', 'infraspecific_name', 'isolate', 'version_status', 'assembly_level', \n",
    "               'release_type', 'genome_rep', 'seq_rel_date', 'asm_name', 'submitter', 'gbrs_paired_asm', \n",
    "               'paired_asm_comp', 'ftp_path', 'excluded_from_refseq', 'relation_to_type_material']\n",
    "    data = pd.read_csv(assembly[0], sep=\"\\t\", dtype=object, skiprows=2, names=columns)\n",
    "    return data"
   ]
  },
  {
   "cell_type": "code",
   "execution_count": 4,
   "metadata": {
    "collapsed": true
   },
   "outputs": [],
   "source": [
    "microbes = get_ref_microbe_taxids()"
   ]
  },
  {
   "cell_type": "code",
   "execution_count": 5,
   "metadata": {
    "collapsed": true
   },
   "outputs": [],
   "source": [
    "wikigenomes =  microbes[microbes['refseq_category'] == 'reference genome']"
   ]
  },
  {
   "cell_type": "code",
   "execution_count": 23,
   "metadata": {
    "collapsed": true
   },
   "outputs": [],
   "source": [
    "wikigenomes = wikigenomes[wikigenomes['submitter'].str.contains(\"DOE\")]"
   ]
  },
  {
   "cell_type": "code",
   "execution_count": 9,
   "metadata": {
    "collapsed": true
   },
   "outputs": [],
   "source": [
    "def execute_query(query):\n",
    "    endpoint = SPARQLWrapper('https://query.wikidata.org/sparql')\n",
    "    endpoint.setQuery(query)\n",
    "    endpoint.setReturnFormat(JSON)\n",
    "    return endpoint.query().convert()"
   ]
  },
  {
   "cell_type": "code",
   "execution_count": 20,
   "metadata": {
    "collapsed": true
   },
   "outputs": [],
   "source": [
    "def query_for_manual_assertion(taxid):\n",
    "    query = '''PREFIX prov: <http://www.w3.org/ns/prov#>\n",
    "    PREFIX p: <http://www.wikidata.org/prop/>\n",
    "    PREFIX wd: <http://www.wikidata.org/entity/>\n",
    "    PREFIX wdt: <http://www.wikidata.org/prop/direct/>\n",
    "    PREFIX pq: <http://www.wikidata.org/prop/qualifier/>\n",
    "\n",
    "    SELECT distinct ?protein ?go_bp ?go_bpLabel ?determination ?determinationLabel ?reference_stated_inLabel ?reference_retrieved WHERE {\n",
    "      ?taxon wdt:P685 '%s'.  \n",
    "      ?protein wdt:P703 ?taxon;\n",
    "               wdt:P681 ?go_bp ;\n",
    "               p:P681 ?go_bp_statement .\n",
    "      ?go_bp_statement pq:P459 ?determination .\n",
    "      ?determination wdt:P31 wd:Q28955254.  # check for manual assertion \n",
    "      ?go_bp_statement prov:wasDerivedFrom/pr:P248 ?reference_stated_in . #where stated\n",
    "      ?go_bp_statement prov:wasDerivedFrom/pr:P813 ?reference_retrieved . #when retrieved\n",
    "      SERVICE wikibase:label {\n",
    "        bd:serviceParam wikibase:language \\\"en\\\" .\n",
    "      }\n",
    "    }''' % (taxid)\n",
    "    r = execute_query(query=query)\n",
    "    return len(r['results']['bindings'])"
   ]
  },
  {
   "cell_type": "code",
   "execution_count": 24,
   "metadata": {},
   "outputs": [],
   "source": [
    "wikigenomes['manual_assertions'] = wikigenomes_JGI['taxid'].apply(query_for_manual_assertion)"
   ]
  },
  {
   "cell_type": "code",
   "execution_count": 26,
   "metadata": {},
   "outputs": [
    {
     "data": {
      "text/html": [
       "<div>\n",
       "<table border=\"1\" class=\"dataframe\">\n",
       "  <thead>\n",
       "    <tr style=\"text-align: right;\">\n",
       "      <th></th>\n",
       "      <th>organism_name</th>\n",
       "      <th>taxid</th>\n",
       "      <th>submitter</th>\n",
       "      <th>seq_rel_date</th>\n",
       "      <th>manual_assertions</th>\n",
       "    </tr>\n",
       "  </thead>\n",
       "  <tbody>\n",
       "    <tr>\n",
       "      <th>6360</th>\n",
       "      <td>Pseudomonas syringae pv. syringae B728a</td>\n",
       "      <td>205918</td>\n",
       "      <td>DOE Joint Genome Institute</td>\n",
       "      <td>2005/05/12</td>\n",
       "      <td>2</td>\n",
       "    </tr>\n",
       "    <tr>\n",
       "      <th>26669</th>\n",
       "      <td>Rhodobacter sphaeroides 2.4.1</td>\n",
       "      <td>272943</td>\n",
       "      <td>DOE Joint Genome Institute</td>\n",
       "      <td>2013/10/23</td>\n",
       "      <td>19</td>\n",
       "    </tr>\n",
       "    <tr>\n",
       "      <th>26700</th>\n",
       "      <td>Rhodospirillum rubrum ATCC 11170</td>\n",
       "      <td>269796</td>\n",
       "      <td>DOE Joint Genome Institute</td>\n",
       "      <td>2005/12/12</td>\n",
       "      <td>0</td>\n",
       "    </tr>\n",
       "    <tr>\n",
       "      <th>26711</th>\n",
       "      <td>Chloroflexus aurantiacus J-10-fl</td>\n",
       "      <td>324602</td>\n",
       "      <td>US DOE Joint Genome Institute</td>\n",
       "      <td>2007/12/20</td>\n",
       "      <td>795</td>\n",
       "    </tr>\n",
       "    <tr>\n",
       "      <th>48282</th>\n",
       "      <td>Bacillus anthracis str. Sterne</td>\n",
       "      <td>260799</td>\n",
       "      <td>DOE Joint Genome Institute</td>\n",
       "      <td>2004/06/24</td>\n",
       "      <td>0</td>\n",
       "    </tr>\n",
       "    <tr>\n",
       "      <th>49229</th>\n",
       "      <td>[Bacillus thuringiensis] serovar konkukian str...</td>\n",
       "      <td>281309</td>\n",
       "      <td>DOE Joint Genome Institute</td>\n",
       "      <td>2004/12/27</td>\n",
       "      <td>2</td>\n",
       "    </tr>\n",
       "    <tr>\n",
       "      <th>50800</th>\n",
       "      <td>Moorella thermoacetica ATCC 39073</td>\n",
       "      <td>264732</td>\n",
       "      <td>DOE Joint Genome Institute</td>\n",
       "      <td>2005/12/12</td>\n",
       "      <td>0</td>\n",
       "    </tr>\n",
       "    <tr>\n",
       "      <th>51271</th>\n",
       "      <td>Lactobacillus paracasei ATCC 334</td>\n",
       "      <td>321967</td>\n",
       "      <td>US DOE Joint Genome Institute (JGI), The Lacti...</td>\n",
       "      <td>2006/10/13</td>\n",
       "      <td>4</td>\n",
       "    </tr>\n",
       "    <tr>\n",
       "      <th>71723</th>\n",
       "      <td>Mesorhizobium ciceri biovar biserrulae WSM1271</td>\n",
       "      <td>765698</td>\n",
       "      <td>US DOE Joint Genome Institute</td>\n",
       "      <td>2011/01/07</td>\n",
       "      <td>0</td>\n",
       "    </tr>\n",
       "    <tr>\n",
       "      <th>72101</th>\n",
       "      <td>Brachybacterium faecium DSM 4810</td>\n",
       "      <td>446465</td>\n",
       "      <td>US DOE Joint Genome Institute (JGI-PGF)</td>\n",
       "      <td>2009/08/25</td>\n",
       "      <td>0</td>\n",
       "    </tr>\n",
       "    <tr>\n",
       "      <th>74212</th>\n",
       "      <td>Thermanaerovibrio acidaminovorans DSM 6589</td>\n",
       "      <td>525903</td>\n",
       "      <td>US DOE Joint Genome Institute (JGI-PGF)</td>\n",
       "      <td>2009/11/19</td>\n",
       "      <td>0</td>\n",
       "    </tr>\n",
       "    <tr>\n",
       "      <th>75747</th>\n",
       "      <td>Sinorhizobium medicae WSM419</td>\n",
       "      <td>366394</td>\n",
       "      <td>US DOE Joint Genome Institute</td>\n",
       "      <td>2007/06/29</td>\n",
       "      <td>0</td>\n",
       "    </tr>\n",
       "    <tr>\n",
       "      <th>80825</th>\n",
       "      <td>Dictyoglomus turgidum DSM 6724</td>\n",
       "      <td>515635</td>\n",
       "      <td>US DOE Joint Genome Institute (JGI-PGF)</td>\n",
       "      <td>2008/12/12</td>\n",
       "      <td>0</td>\n",
       "    </tr>\n",
       "  </tbody>\n",
       "</table>\n",
       "</div>"
      ],
      "text/plain": [
       "                                           organism_name   taxid  \\\n",
       "6360             Pseudomonas syringae pv. syringae B728a  205918   \n",
       "26669                      Rhodobacter sphaeroides 2.4.1  272943   \n",
       "26700                   Rhodospirillum rubrum ATCC 11170  269796   \n",
       "26711                   Chloroflexus aurantiacus J-10-fl  324602   \n",
       "48282                     Bacillus anthracis str. Sterne  260799   \n",
       "49229  [Bacillus thuringiensis] serovar konkukian str...  281309   \n",
       "50800                  Moorella thermoacetica ATCC 39073  264732   \n",
       "51271                   Lactobacillus paracasei ATCC 334  321967   \n",
       "71723     Mesorhizobium ciceri biovar biserrulae WSM1271  765698   \n",
       "72101                   Brachybacterium faecium DSM 4810  446465   \n",
       "74212         Thermanaerovibrio acidaminovorans DSM 6589  525903   \n",
       "75747                       Sinorhizobium medicae WSM419  366394   \n",
       "80825                     Dictyoglomus turgidum DSM 6724  515635   \n",
       "\n",
       "                                               submitter seq_rel_date  \\\n",
       "6360                          DOE Joint Genome Institute   2005/05/12   \n",
       "26669                         DOE Joint Genome Institute   2013/10/23   \n",
       "26700                         DOE Joint Genome Institute   2005/12/12   \n",
       "26711                      US DOE Joint Genome Institute   2007/12/20   \n",
       "48282                         DOE Joint Genome Institute   2004/06/24   \n",
       "49229                         DOE Joint Genome Institute   2004/12/27   \n",
       "50800                         DOE Joint Genome Institute   2005/12/12   \n",
       "51271  US DOE Joint Genome Institute (JGI), The Lacti...   2006/10/13   \n",
       "71723                      US DOE Joint Genome Institute   2011/01/07   \n",
       "72101            US DOE Joint Genome Institute (JGI-PGF)   2009/08/25   \n",
       "74212            US DOE Joint Genome Institute (JGI-PGF)   2009/11/19   \n",
       "75747                      US DOE Joint Genome Institute   2007/06/29   \n",
       "80825            US DOE Joint Genome Institute (JGI-PGF)   2008/12/12   \n",
       "\n",
       "       manual_assertions  \n",
       "6360                   2  \n",
       "26669                 19  \n",
       "26700                  0  \n",
       "26711                795  \n",
       "48282                  0  \n",
       "49229                  2  \n",
       "50800                  0  \n",
       "51271                  4  \n",
       "71723                  0  \n",
       "72101                  0  \n",
       "74212                  0  \n",
       "75747                  0  \n",
       "80825                  0  "
      ]
     },
     "execution_count": 26,
     "metadata": {},
     "output_type": "execute_result"
    }
   ],
   "source": [
    "wikigenomes[['organism_name', 'taxid', 'submitter', 'seq_rel_date', 'manual_assertions']]"
   ]
  },
  {
   "cell_type": "code",
   "execution_count": null,
   "metadata": {
    "collapsed": true
   },
   "outputs": [],
   "source": []
  }
 ],
 "metadata": {
  "kernelspec": {
   "display_name": "Python 3",
   "language": "python",
   "name": "python3"
  },
  "language_info": {
   "codemirror_mode": {
    "name": "ipython",
    "version": 3
   },
   "file_extension": ".py",
   "mimetype": "text/x-python",
   "name": "python",
   "nbconvert_exporter": "python",
   "pygments_lexer": "ipython3",
   "version": "3.5.1"
  }
 },
 "nbformat": 4,
 "nbformat_minor": 2
}
