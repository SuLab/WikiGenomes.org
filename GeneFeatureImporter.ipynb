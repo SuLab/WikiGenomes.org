{
 "cells": [
  {
   "cell_type": "code",
   "execution_count": 25,
   "metadata": {
    "collapsed": true
   },
   "outputs": [],
   "source": [
    "import urllib.request\n",
    "import csv\n",
    "import codecs\n",
    "from pymongo import MongoClient\n",
    "import gzip\n",
    "import tempfile\n",
    "from time import gmtime, strftime\n",
    "import subprocess\n",
    "from pprint import pprint\n",
    "from scripts.WD_Utils import WDSparqlQueries\n",
    "from wikigenomes.settings import BASE_DIR\n",
    "import json\n",
    "from scripts import jbrowse_configuration as jc"
   ]
  },
  {
   "cell_type": "code",
   "execution_count": 26,
   "metadata": {
    "collapsed": true
   },
   "outputs": [],
   "source": [
    "features = jc.FeatureDataRetrieval(taxid='243161')"
   ]
  },
  {
   "cell_type": "code",
   "execution_count": 38,
   "metadata": {
    "collapsed": false
   },
   "outputs": [
    {
     "data": {
      "text/plain": [
       "['replaced 893 genes from taxid: 243161']"
      ]
     },
     "execution_count": 38,
     "metadata": {},
     "output_type": "execute_result"
    }
   ],
   "source": [
    "features.get_wd_genes()"
   ]
  },
  {
   "cell_type": "code",
   "execution_count": 41,
   "metadata": {
    "collapsed": true
   },
   "outputs": [],
   "source": [
    "features.genes2gff()"
   ]
  },
  {
   "cell_type": "code",
   "execution_count": 40,
   "metadata": {
    "collapsed": false
   },
   "outputs": [
    {
     "name": "stdout",
     "output_type": "stream",
     "text": [
      "{'_id': '1245745',\n",
      " 'end': '456931',\n",
      " 'entrez': '1245745',\n",
      " 'label': 'membrane protein TC_RS01955',\n",
      " 'locusTag': 'TC_RS01955',\n",
      " 'refSeq': 'NC_002620.2',\n",
      " 'start': '456647',\n",
      " 'strand': '+',\n",
      " 'taxid': '243161',\n",
      " 'timestamp': '2017-05-19 18:16:38',\n",
      " 'uri': 'http://www.wikidata.org/entity/Q27943762'}\n",
      "{'_id': '1245739',\n",
      " 'end': '449139',\n",
      " 'entrez': '1245739',\n",
      " 'label': 'molecular chaperone GroES TC_RS01925',\n",
      " 'locusTag': 'TC_RS01925',\n",
      " 'refSeq': 'NC_002620.2',\n",
      " 'start': '448831',\n",
      " 'strand': '-',\n",
      " 'taxid': '243161',\n",
      " 'timestamp': '2017-05-19 18:16:38',\n",
      " 'uri': 'http://www.wikidata.org/entity/Q27943756'}\n",
      "{'_id': '1245744',\n",
      " 'end': '456635',\n",
      " 'entrez': '1245744',\n",
      " 'label': 'membrane protein TC_RS01950',\n",
      " 'locusTag': 'TC_RS01950',\n",
      " 'refSeq': 'NC_002620.2',\n",
      " 'start': '456204',\n",
      " 'strand': '+',\n",
      " 'taxid': '243161',\n",
      " 'timestamp': '2017-05-19 18:16:38',\n",
      " 'uri': 'http://www.wikidata.org/entity/Q27943761'}\n",
      "{'_id': '1245746',\n",
      " 'end': '457466',\n",
      " 'entrez': '1245746',\n",
      " 'label': 'hypothetical protein TC_RS01960',\n",
      " 'locusTag': 'TC_RS01960',\n",
      " 'refSeq': 'NC_002620.2',\n",
      " 'start': '456966',\n",
      " 'strand': '+',\n",
      " 'taxid': '243161',\n",
      " 'timestamp': '2017-05-19 18:16:38',\n",
      " 'uri': 'http://www.wikidata.org/entity/Q27943763'}\n",
      "{'_id': '1245751',\n",
      " 'end': '460632',\n",
      " 'entrez': '1245751',\n",
      " 'label': 'acetyl-CoA carboxylase biotin carboxyl carrier protein subunit '\n",
      "          'TC_RS01985',\n",
      " 'locusTag': 'TC_RS01985',\n",
      " 'refSeq': 'NC_002620.2',\n",
      " 'start': '460141',\n",
      " 'strand': '+',\n",
      " 'taxid': '243161',\n",
      " 'timestamp': '2017-05-19 18:16:38',\n",
      " 'uri': 'http://www.wikidata.org/entity/Q27943767'}\n",
      "{'_id': '1245740',\n",
      " 'end': '451136',\n",
      " 'entrez': '1245740',\n",
      " 'label': 'oligoendopeptidase F TC_RS01930',\n",
      " 'locusTag': 'TC_RS01930',\n",
      " 'refSeq': 'NC_002620.2',\n",
      " 'start': '449310',\n",
      " 'strand': '-',\n",
      " 'taxid': '243161',\n",
      " 'timestamp': '2017-05-19 18:16:38',\n",
      " 'uri': 'http://www.wikidata.org/entity/Q27943757'}\n",
      "{'_id': '1245742',\n",
      " 'end': '455520',\n",
      " 'entrez': '1245742',\n",
      " 'label': 'hypothetical protein TC_RS01940',\n",
      " 'locusTag': 'TC_RS01940',\n",
      " 'refSeq': 'NC_002620.2',\n",
      " 'start': '454045',\n",
      " 'strand': '+',\n",
      " 'taxid': '243161',\n",
      " 'timestamp': '2017-05-19 18:16:38',\n",
      " 'uri': 'http://www.wikidata.org/entity/Q27943759'}\n",
      "{'_id': '1245749',\n",
      " 'end': '459584',\n",
      " 'entrez': '1245749',\n",
      " 'label': 'ribulose-phosphate 3-epimerase TC_RS01975',\n",
      " 'locusTag': 'TC_RS01975',\n",
      " 'refSeq': 'NC_002620.2',\n",
      " 'start': '458898',\n",
      " 'strand': '+',\n",
      " 'taxid': '243161',\n",
      " 'timestamp': '2017-05-19 18:16:38',\n",
      " 'uri': 'http://www.wikidata.org/entity/Q27943765'}\n",
      "{'_id': '1245750',\n",
      " 'end': '460128',\n",
      " 'entrez': '1245750',\n",
      " 'label': 'elongation factor P TC_RS01980',\n",
      " 'locusTag': 'TC_RS01980',\n",
      " 'refSeq': 'NC_002620.2',\n",
      " 'start': '459571',\n",
      " 'strand': '+',\n",
      " 'taxid': '243161',\n",
      " 'timestamp': '2017-05-19 18:16:38',\n",
      " 'uri': 'http://www.wikidata.org/entity/Q27943766'}\n"
     ]
    }
   ],
   "source": [
    "nigg_genes = features.genes.find({'taxid': '243161'})\n",
    "count = 0\n",
    "for cur in nigg_genes:\n",
    "    count += 1\n",
    "    if count < 10:  \n",
    "        pprint(cur)"
   ]
  },
  {
   "cell_type": "code",
   "execution_count": 32,
   "metadata": {
    "collapsed": false
   },
   "outputs": [],
   "source": []
  },
  {
   "cell_type": "code",
   "execution_count": 33,
   "metadata": {
    "collapsed": true
   },
   "outputs": [],
   "source": [
    "gfd = jc.GenomeDataRetrieval(taxid='243161')"
   ]
  },
  {
   "cell_type": "code",
   "execution_count": 37,
   "metadata": {
    "collapsed": false
   },
   "outputs": [
    {
     "name": "stdout",
     "output_type": "stream",
     "text": [
      "{'_id': '243161',\n",
      " 'asm_name': 'ASM668v1',\n",
      " 'assembly_accession': 'GCF_000006685.1',\n",
      " 'assembly_level': 'Complete Genome',\n",
      " 'bioproject': 'PRJNA224116',\n",
      " 'biosample': 'SAMN02603994',\n",
      " 'excluded_from_refseq': '',\n",
      " 'ftp_path': 'ftp://ftp.ncbi.nlm.nih.gov/genomes/all/GCF/000/006/685/GCF_000006685.1_ASM668v1',\n",
      " 'gbrs_paired_asm': 'GCA_000006685.1',\n",
      " 'genome_rep': 'Full',\n",
      " 'infraspecific_name': 'strain=Nigg',\n",
      " 'isolate': '',\n",
      " 'organism_name': 'Chlamydia muridarum str. Nigg',\n",
      " 'paired_asm_comp': 'identical',\n",
      " 'refseq_category': 'representative genome',\n",
      " 'release_type': 'Major',\n",
      " 'seq_rel_date': '2003/03/26',\n",
      " 'species_taxid': '83560',\n",
      " 'submitter': 'TIGR',\n",
      " 'timestamp': '2017-03-13 20:25:27',\n",
      " 'version_status': 'latest',\n",
      " 'wgs_master': ''}\n"
     ]
    }
   ],
   "source": [
    "ass_sum_collection = gfd.assembly_summary_collection.find({'_id': '243161'})\n",
    "for cur in ass_sum_collection:\n",
    "    pprint(cur)"
   ]
  },
  {
   "cell_type": "code",
   "execution_count": null,
   "metadata": {
    "collapsed": true
   },
   "outputs": [],
   "source": []
  }
 ],
 "metadata": {
  "kernelspec": {
   "display_name": "Python 3",
   "language": "python",
   "name": "python3"
  },
  "language_info": {
   "codemirror_mode": {
    "name": "ipython",
    "version": 3
   },
   "file_extension": ".py",
   "mimetype": "text/x-python",
   "name": "python",
   "nbconvert_exporter": "python",
   "pygments_lexer": "ipython3",
   "version": "3.5.1"
  }
 },
 "nbformat": 4,
 "nbformat_minor": 0
}
